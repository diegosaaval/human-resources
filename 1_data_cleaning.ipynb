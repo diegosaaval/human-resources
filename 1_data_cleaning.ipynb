{
 "cells": [
  {
   "cell_type": "markdown",
   "metadata": {},
   "source": [
    "### LIMPIEZA Y TRANSFORMACIÓN DE DATOS"
   ]
  },
  {
   "cell_type": "code",
   "execution_count": 66,
   "metadata": {},
   "outputs": [],
   "source": [
    "# Cargar librerías\n",
    "import pandas as pd  # Manejo de dataframes"
   ]
  },
  {
   "cell_type": "code",
   "execution_count": 67,
   "metadata": {},
   "outputs": [],
   "source": [
    "# Cargar data\n",
    "df_emp = pd.read_csv(\"data/employee_survey_data.csv\")\n",
    "df_gen = pd.read_csv(\"data/general_data.csv\", sep=\";\")\n",
    "df_in_time = pd.read_csv(\"data/in_time.csv\")\n",
    "df_manager = pd.read_csv(\"data/manager_survey_data.csv\")\n",
    "df_out_time = pd.read_csv(\"data/out_time.csv\")\n",
    "df_retirement = pd.read_csv(\"data/retirement_info.csv\", sep=\";\")"
   ]
  },
  {
   "cell_type": "code",
   "execution_count": 68,
   "metadata": {},
   "outputs": [],
   "source": [
    "# Renombrar columnas\n",
    "df_in_time = df_in_time.rename(columns={\"Unnamed: 0\": \"EmployeeID\"})\n",
    "df_out_time = df_out_time.rename(columns={\"Unnamed: 0\": \"EmployeeID\"})\n",
    "\n",
    "# Establecer índices\n",
    "df_emp = df_emp.set_index(\"EmployeeID\")\n",
    "df_gen = df_gen.set_index(\"EmployeeID\")\n",
    "df_in_time = df_in_time.set_index(\"EmployeeID\")\n",
    "df_manager = df_manager.set_index(\"EmployeeID\")\n",
    "df_out_time = df_out_time.set_index(\"EmployeeID\")\n",
    "df_retirement = df_retirement.set_index(\"EmployeeID\")\n",
    "\n",
    "# Convertir a formato fecha\n",
    "df_in_time = df_in_time.apply(pd.to_datetime)\n",
    "df_out_time = df_out_time.apply(pd.to_datetime)\n",
    "\n",
    "df_retirement[\"retirementDate\"] = pd.to_datetime(\n",
    "    df_retirement[\"retirementDate\"], format=\"%d/%m/%Y\"\n",
    ")\n",
    "\n",
    "# Eliminar columnas innecesarias ya que son redundantes\n",
    "df_gen = df_gen.drop([\"Over18\", \"StandardHours\", \"EmployeeCount\"], axis=1)"
   ]
  },
  {
   "cell_type": "code",
   "execution_count": 69,
   "metadata": {},
   "outputs": [],
   "source": [
    "# Estos nulos se tratan antes ya que las bases tienen diferentes dimensiones, por lo que\n",
    "# al unir estos nulos se juntarían con los nulos que no se han retirado\n",
    "\n",
    "\n",
    "# Los nulos de la columna resignationReason se reemplazan por \"Fired\" porque todos los nulos son los que echaron\n",
    "df_retirement[\"resignationReason\"] = df_retirement[\"resignationReason\"].fillna(\"Fired\")"
   ]
  },
  {
   "cell_type": "code",
   "execution_count": 70,
   "metadata": {},
   "outputs": [
    {
     "name": "stdout",
     "output_type": "stream",
     "text": [
      "Comprobación de unión exitosa\n",
      "(4410, 28)\n",
      "------------------------------\n"
     ]
    },
    {
     "data": {
      "text/plain": [
       "Age                           0\n",
       "BusinessTravel                0\n",
       "Department                    0\n",
       "DistanceFromHome              0\n",
       "Education                     0\n",
       "EducationField                0\n",
       "Gender                        0\n",
       "JobLevel                      0\n",
       "JobRole                       0\n",
       "MaritalStatus                 0\n",
       "MonthlyIncome                 0\n",
       "NumCompaniesWorked           19\n",
       "PercentSalaryHike             0\n",
       "StockOptionLevel              0\n",
       "TotalWorkingYears             9\n",
       "TrainingTimesLastYear         0\n",
       "YearsAtCompany                0\n",
       "YearsSinceLastPromotion       0\n",
       "YearsWithCurrManager          0\n",
       "EnvironmentSatisfaction      25\n",
       "JobSatisfaction              20\n",
       "WorkLifeBalance              38\n",
       "JobInvolvement                0\n",
       "PerformanceRating             0\n",
       "target                     3699\n",
       "retirementDate             3699\n",
       "retirementType             3699\n",
       "resignationReason          3699\n",
       "dtype: int64"
      ]
     },
     "execution_count": 70,
     "metadata": {},
     "output_type": "execute_result"
    }
   ],
   "source": [
    "# Unir todos los dataframes con el índice con merge\n",
    "df = (\n",
    "    df_gen.merge(df_emp, on=\"EmployeeID\", how=\"outer\")\n",
    "    .merge(df_manager, on=\"EmployeeID\", how=\"outer\")\n",
    "    .merge(df_retirement, on=\"EmployeeID\", how=\"outer\")\n",
    ")\n",
    "\n",
    "\n",
    "### Renombrar Variable objetivo\n",
    "df = df.rename(columns={\"Attrition\": \"target\"})\n",
    "\n",
    "### Comprobación de unión exitosa\n",
    "print(\"Comprobación de unión exitosa\")\n",
    "print(df.shape)\n",
    "print(\"------------------------------\")\n",
    "\n",
    "## Ver los nulos en el dataframe\n",
    "df.isnull().sum()"
   ]
  },
  {
   "cell_type": "code",
   "execution_count": 73,
   "metadata": {},
   "outputs": [
    {
     "data": {
      "text/plain": [
       "Age                           0\n",
       "BusinessTravel                0\n",
       "Department                    0\n",
       "DistanceFromHome              0\n",
       "Education                     0\n",
       "EducationField                0\n",
       "Gender                        0\n",
       "JobLevel                      0\n",
       "JobRole                       0\n",
       "MaritalStatus                 0\n",
       "MonthlyIncome                 0\n",
       "NumCompaniesWorked            0\n",
       "PercentSalaryHike             0\n",
       "StockOptionLevel              0\n",
       "TotalWorkingYears             0\n",
       "TrainingTimesLastYear         0\n",
       "YearsAtCompany                0\n",
       "YearsSinceLastPromotion       0\n",
       "YearsWithCurrManager          0\n",
       "EnvironmentSatisfaction      25\n",
       "JobSatisfaction              20\n",
       "WorkLifeBalance              37\n",
       "JobInvolvement                0\n",
       "PerformanceRating             0\n",
       "target                        0\n",
       "retirementDate             3677\n",
       "retirementType                0\n",
       "resignationReason             0\n",
       "dtype: int64"
      ]
     },
     "execution_count": 73,
     "metadata": {},
     "output_type": "execute_result"
    }
   ],
   "source": [
    "#### TRATAMIENTO DE NULOS\n",
    "\n",
    "# Se eliminan los registros nulos de NumCompaniesWorked y TotalWorkingYears porque son pocos y no se ven patrones\n",
    "df = df.dropna(subset=[\"NumCompaniesWorked\", \"TotalWorkingYears\"])\n",
    "# Los nan de la columna \"Attrition\" se reemplazan por \"No\"\n",
    "df[\"target\"] = df[\"target\"].fillna(\"No\")\n",
    "\n",
    "\n",
    "# NULOS POR UNIR DATASETS: Los nulos que se ven es porque se unieron con una base de datos de retirados\n",
    "# entonces los nulos que hay es porque hay empleados que no se han retirado\n",
    "\n",
    "# Los nan de retirementType se reemplazan por \"No\"\n",
    "df[\"retirementType\"] = df[\"retirementType\"].fillna(\"No\")\n",
    "# Los nan de resignationReason se reemplazan por \"No\"\n",
    "df[\"resignationReason\"] = df[\"resignationReason\"].fillna(\"No\")\n",
    "# Los nan de retirementDate se dejan como están para facilitar la manipulación de datos\n",
    "\n",
    "\n",
    "# Los nulos de EnvironmentSatisfaction, JobSatisfaction, WorkLifeBalance se imputaran más adelante\n",
    "\n",
    "\n",
    "## Ver los nulos en el dataframe\n",
    "df.isnull().sum()"
   ]
  },
  {
   "cell_type": "code",
   "execution_count": 75,
   "metadata": {},
   "outputs": [],
   "source": [
    "# Transformar variable objetivo a binaria\n",
    "from sklearn.preprocessing import LabelEncoder\n",
    "\n",
    "enc = LabelEncoder()\n",
    "df[\"target\"] = enc.fit_transform(df[\"target\"])"
   ]
  },
  {
   "cell_type": "code",
   "execution_count": 76,
   "metadata": {},
   "outputs": [],
   "source": [
    "# Guardar dataframe en csv para usarlo en el siguiente notebook\n",
    "df.to_csv(\"data/df.csv\", index=True)"
   ]
  }
 ],
 "metadata": {
  "kernelspec": {
   "display_name": "Python 3",
   "language": "python",
   "name": "python3"
  },
  "language_info": {
   "codemirror_mode": {
    "name": "ipython",
    "version": 3
   },
   "file_extension": ".py",
   "mimetype": "text/x-python",
   "name": "python",
   "nbconvert_exporter": "python",
   "pygments_lexer": "ipython3",
   "version": "3.11.4"
  },
  "orig_nbformat": 4
 },
 "nbformat": 4,
 "nbformat_minor": 2
}
