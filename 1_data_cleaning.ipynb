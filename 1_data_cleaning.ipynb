{
 "cells": [
  {
   "cell_type": "markdown",
   "metadata": {},
   "source": [
    "LIMPIEZA Y TRANSFORMACIÓN DE DATOS"
   ]
  },
  {
   "cell_type": "markdown",
   "metadata": {},
   "source": [
    "Por hacer:\n",
    "* Eliminar columnas que no se van a usar y documentar por qué\n",
    "* Verificar tipos de datos en el df_gen \n",
    "* Buscar datos nulos en los df y mirar que técnica usar para reemplazarlos\n",
    "* Tratar los df_in_time y df_out_time (opcional, no es calificable)\n",
    "* Para calcular nuevas variables, filtros, hacer consultas y unir los df, se debe usar SQL"
   ]
  },
  {
   "cell_type": "code",
   "execution_count": 1,
   "metadata": {},
   "outputs": [],
   "source": [
    "# Cargar librerías\n",
    "import pandas as pd  # Manejo de dataframes\n",
    "import sqlite3 as sql  # Manejo de base de datos"
   ]
  },
  {
   "cell_type": "code",
   "execution_count": 191,
   "metadata": {},
   "outputs": [],
   "source": [
    "# Cargar data\n",
    "df_emp = pd.read_csv(\"data/employee_survey_data.csv\")\n",
    "df_gen = pd.read_csv(\"data/general_data.csv\", sep=\";\")\n",
    "df_in_time = pd.read_csv(\"data/in_time.csv\")\n",
    "df_manager = pd.read_csv(\"data/manager_survey_data.csv\")\n",
    "df_out_time = pd.read_csv(\"data/out_time.csv\")\n",
    "df_retirement = pd.read_csv(\"data/retirement_info.csv\", sep=\";\")"
   ]
  },
  {
   "cell_type": "code",
   "execution_count": 192,
   "metadata": {},
   "outputs": [],
   "source": [
    "# Renombrar columnas\n",
    "df_in_time = df_in_time.rename(columns={\"Unnamed: 0\": \"EmployeeID\"})\n",
    "df_out_time = df_out_time.rename(columns={\"Unnamed: 0\": \"EmployeeID\"})\n",
    "\n",
    "# Establecer índices\n",
    "df_emp = df_emp.set_index(\"EmployeeID\")\n",
    "df_gen = df_gen.set_index(\"EmployeeID\")\n",
    "df_in_time = df_in_time.set_index(\"EmployeeID\")\n",
    "df_manager = df_manager.set_index(\"EmployeeID\")\n",
    "df_out_time = df_out_time.set_index(\"EmployeeID\")\n",
    "df_retirement = df_retirement.set_index(\"EmployeeID\")\n",
    "\n",
    "# Convertir a formato fecha\n",
    "df_in_time = df_in_time.apply(pd.to_datetime)\n",
    "df_out_time = df_out_time.apply(pd.to_datetime)\n",
    "\n",
    "df_retirement[\"retirementDate\"] = pd.to_datetime(\n",
    "    df_retirement[\"retirementDate\"], format=\"%d/%m/%Y\"\n",
    ")\n",
    "\n",
    "# Convertir columnas a formato float\n",
    "df_manager[\"JobInvolvement\"] = df_manager[\"JobInvolvement\"].astype(float)\n",
    "df_manager[\"PerformanceRating\"] = df_manager[\"PerformanceRating\"].astype(float)"
   ]
  },
  {
   "cell_type": "code",
   "execution_count": 208,
   "metadata": {},
   "outputs": [
    {
     "data": {
      "text/html": [
       "<div>\n",
       "<style scoped>\n",
       "    .dataframe tbody tr th:only-of-type {\n",
       "        vertical-align: middle;\n",
       "    }\n",
       "\n",
       "    .dataframe tbody tr th {\n",
       "        vertical-align: top;\n",
       "    }\n",
       "\n",
       "    .dataframe thead th {\n",
       "        text-align: right;\n",
       "    }\n",
       "</style>\n",
       "<table border=\"1\" class=\"dataframe\">\n",
       "  <thead>\n",
       "    <tr style=\"text-align: right;\">\n",
       "      <th></th>\n",
       "      <th>EnvironmentSatisfaction</th>\n",
       "      <th>JobSatisfaction</th>\n",
       "      <th>WorkLifeBalance</th>\n",
       "    </tr>\n",
       "    <tr>\n",
       "      <th>EmployeeID</th>\n",
       "      <th></th>\n",
       "      <th></th>\n",
       "      <th></th>\n",
       "    </tr>\n",
       "  </thead>\n",
       "  <tbody>\n",
       "    <tr>\n",
       "      <th>1</th>\n",
       "      <td>3.0</td>\n",
       "      <td>4.0</td>\n",
       "      <td>2.0</td>\n",
       "    </tr>\n",
       "    <tr>\n",
       "      <th>2</th>\n",
       "      <td>3.0</td>\n",
       "      <td>2.0</td>\n",
       "      <td>4.0</td>\n",
       "    </tr>\n",
       "    <tr>\n",
       "      <th>3</th>\n",
       "      <td>2.0</td>\n",
       "      <td>2.0</td>\n",
       "      <td>1.0</td>\n",
       "    </tr>\n",
       "    <tr>\n",
       "      <th>4</th>\n",
       "      <td>4.0</td>\n",
       "      <td>4.0</td>\n",
       "      <td>3.0</td>\n",
       "    </tr>\n",
       "    <tr>\n",
       "      <th>5</th>\n",
       "      <td>4.0</td>\n",
       "      <td>1.0</td>\n",
       "      <td>3.0</td>\n",
       "    </tr>\n",
       "  </tbody>\n",
       "</table>\n",
       "</div>"
      ],
      "text/plain": [
       "            EnvironmentSatisfaction  JobSatisfaction  WorkLifeBalance\n",
       "EmployeeID                                                           \n",
       "1                               3.0              4.0              2.0\n",
       "2                               3.0              2.0              4.0\n",
       "3                               2.0              2.0              1.0\n",
       "4                               4.0              4.0              3.0\n",
       "5                               4.0              1.0              3.0"
      ]
     },
     "execution_count": 208,
     "metadata": {},
     "output_type": "execute_result"
    }
   ],
   "source": [
    "# Mostrar todas las columnas\n",
    "pd.set_option(\"display.max_columns\", None)\n",
    "df_emp.head()"
   ]
  }
 ],
 "metadata": {
  "kernelspec": {
   "display_name": "Python 3",
   "language": "python",
   "name": "python3"
  },
  "language_info": {
   "codemirror_mode": {
    "name": "ipython",
    "version": 3
   },
   "file_extension": ".py",
   "mimetype": "text/x-python",
   "name": "python",
   "nbconvert_exporter": "python",
   "pygments_lexer": "ipython3",
   "version": "3.11.4"
  },
  "orig_nbformat": 4
 },
 "nbformat": 4,
 "nbformat_minor": 2
}
