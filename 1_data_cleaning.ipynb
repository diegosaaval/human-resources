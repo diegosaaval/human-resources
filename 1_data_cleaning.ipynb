{
 "cells": [
  {
   "cell_type": "markdown",
   "metadata": {},
   "source": [
    "### LIMPIEZA Y TRANSFORMACIÓN DE DATOS"
   ]
  },
  {
   "cell_type": "code",
   "execution_count": 324,
   "metadata": {},
   "outputs": [],
   "source": [
    "# Cargar librerías\n",
    "import pandas as pd  # Manejo de dataframes\n",
    "import sqlite3 as sql  # Manejo de base de datos\n",
    "from sklearn.preprocessing import LabelEncoder  # Codificar variables categóricas"
   ]
  },
  {
   "cell_type": "code",
   "execution_count": 325,
   "metadata": {},
   "outputs": [],
   "source": [
    "# Cargar data\n",
    "df_emp = pd.read_csv(\"data/employee_survey_data.csv\")\n",
    "df_gen = pd.read_csv(\"data/general_data.csv\", sep=\";\")\n",
    "df_in_time = pd.read_csv(\"data/in_time.csv\")\n",
    "df_manager = pd.read_csv(\"data/manager_survey_data.csv\")\n",
    "df_out_time = pd.read_csv(\"data/out_time.csv\")\n",
    "df_retirement = pd.read_csv(\"data/retirement_info.csv\", sep=\";\")"
   ]
  },
  {
   "cell_type": "code",
   "execution_count": 326,
   "metadata": {},
   "outputs": [],
   "source": [
    "# Renombrar columnas\n",
    "df_in_time = df_in_time.rename(columns={\"Unnamed: 0\": \"EmployeeID\"})\n",
    "df_out_time = df_out_time.rename(columns={\"Unnamed: 0\": \"EmployeeID\"})\n",
    "\n",
    "# Establecer índices\n",
    "df_emp = df_emp.set_index(\"EmployeeID\")\n",
    "df_gen = df_gen.set_index(\"EmployeeID\")\n",
    "df_in_time = df_in_time.set_index(\"EmployeeID\")\n",
    "df_manager = df_manager.set_index(\"EmployeeID\")\n",
    "df_out_time = df_out_time.set_index(\"EmployeeID\")\n",
    "df_retirement = df_retirement.set_index(\"EmployeeID\")\n",
    "\n",
    "# Convertir a formato fecha\n",
    "df_in_time = df_in_time.apply(pd.to_datetime)\n",
    "df_out_time = df_out_time.apply(pd.to_datetime)\n",
    "\n",
    "df_retirement[\"retirementDate\"] = pd.to_datetime(\n",
    "    df_retirement[\"retirementDate\"], format=\"%d/%m/%Y\"\n",
    ")\n",
    "\n",
    "# Convertir columnas a formato float\n",
    "df_manager[\"JobInvolvement\"] = df_manager[\"JobInvolvement\"].astype(float)\n",
    "df_manager[\"PerformanceRating\"] = df_manager[\"PerformanceRating\"].astype(float)\n",
    "\n",
    "# Eliminar columnas innecesarias ya que son redundantes\n",
    "df_gen = df_gen.drop([\"Over18\", \"StandardHours\", \"EmployeeCount\"], axis=1)"
   ]
  },
  {
   "cell_type": "code",
   "execution_count": 322,
   "metadata": {},
   "outputs": [
    {
     "name": "stdout",
     "output_type": "stream",
     "text": [
      "EnvironmentSatisfaction    25\n",
      "JobSatisfaction            20\n",
      "WorkLifeBalance            38\n",
      "dtype: int64\n",
      "\n",
      "\n",
      "Age                         0\n",
      "BusinessTravel              0\n",
      "Department                  0\n",
      "DistanceFromHome            0\n",
      "Education                   0\n",
      "EducationField              0\n",
      "Gender                      0\n",
      "JobLevel                    0\n",
      "JobRole                     0\n",
      "MaritalStatus               0\n",
      "MonthlyIncome               0\n",
      "NumCompaniesWorked         19\n",
      "PercentSalaryHike           0\n",
      "StockOptionLevel            0\n",
      "TotalWorkingYears           9\n",
      "TrainingTimesLastYear       0\n",
      "YearsAtCompany              0\n",
      "YearsSinceLastPromotion     0\n",
      "YearsWithCurrManager        0\n",
      "dtype: int64\n",
      "\n",
      "\n",
      "JobInvolvement       0\n",
      "PerformanceRating    0\n",
      "dtype: int64\n",
      "\n",
      "\n",
      "Attrition             0\n",
      "retirementDate        0\n",
      "retirementType        0\n",
      "resignationReason    70\n",
      "dtype: int64\n",
      "\n",
      "\n"
     ]
    }
   ],
   "source": [
    "# Ciclo para conocer los nulos en cada dataframe\n",
    "for df in [df_emp, df_gen, df_manager, df_retirement]:\n",
    "    print(df.isnull().sum())\n",
    "    print(\"\\n\")"
   ]
  },
  {
   "cell_type": "code",
   "execution_count": 327,
   "metadata": {},
   "outputs": [
    {
     "name": "stdout",
     "output_type": "stream",
     "text": [
      "EnvironmentSatisfaction    0\n",
      "JobSatisfaction            0\n",
      "WorkLifeBalance            0\n",
      "dtype: int64\n",
      "\n",
      "\n",
      "Age                        0\n",
      "BusinessTravel             0\n",
      "Department                 0\n",
      "DistanceFromHome           0\n",
      "Education                  0\n",
      "EducationField             0\n",
      "Gender                     0\n",
      "JobLevel                   0\n",
      "JobRole                    0\n",
      "MaritalStatus              0\n",
      "MonthlyIncome              0\n",
      "NumCompaniesWorked         0\n",
      "PercentSalaryHike          0\n",
      "StockOptionLevel           0\n",
      "TotalWorkingYears          9\n",
      "TrainingTimesLastYear      0\n",
      "YearsAtCompany             0\n",
      "YearsSinceLastPromotion    0\n",
      "YearsWithCurrManager       0\n",
      "dtype: int64\n",
      "\n",
      "\n",
      "JobInvolvement       0\n",
      "PerformanceRating    0\n",
      "dtype: int64\n",
      "\n",
      "\n",
      "Attrition            0\n",
      "retirementDate       0\n",
      "retirementType       0\n",
      "resignationReason    0\n",
      "dtype: int64\n",
      "\n",
      "\n"
     ]
    }
   ],
   "source": [
    "#### Nulos en columnas de los dataframes\n",
    "# Los nulos de la columna NumCompaniesWorked se reemplazan por 0\n",
    "df_gen[\"NumCompaniesWorked\"] = df_gen[\"NumCompaniesWorked\"].fillna(0)\n",
    "# Los nulos de la columna resignationReason se reemplazan por \"Fired\"\n",
    "df_retirement[\"resignationReason\"] = df_retirement[\"resignationReason\"].fillna(\"Fired\")\n",
    "\n",
    "# Reemplazar datos nulos de EnvironmentSatisfaction, JobSatisfaction, WorkLifeBalance por la media de ese empleado\n",
    "df_emp[\"EnvironmentSatisfaction\"] = df_emp[\"EnvironmentSatisfaction\"].fillna(\n",
    "    df_emp[\"EnvironmentSatisfaction\"].mean()\n",
    ")\n",
    "df_emp[\"JobSatisfaction\"] = df_emp[\"JobSatisfaction\"].fillna(\n",
    "    df_emp[\"JobSatisfaction\"].mean()\n",
    ")\n",
    "df_emp[\"WorkLifeBalance\"] = df_emp[\"WorkLifeBalance\"].fillna(\n",
    "    df_emp[\"WorkLifeBalance\"].mean()\n",
    ")\n",
    "\n",
    "# Ciclo para conocer los nulos en cada dataframe\n",
    "for df in [df_emp, df_gen, df_manager, df_retirement]:\n",
    "    print(df.isnull().sum())\n",
    "    print(\"\\n\")"
   ]
  },
  {
   "cell_type": "code",
   "execution_count": 328,
   "metadata": {},
   "outputs": [
    {
     "data": {
      "text/plain": [
       "(4401, 28)"
      ]
     },
     "execution_count": 328,
     "metadata": {},
     "output_type": "execute_result"
    }
   ],
   "source": [
    "# Unir todos los dataframes con el índice con merge\n",
    "df = (\n",
    "    df_gen.merge(df_emp, on=\"EmployeeID\", how=\"outer\")\n",
    "    .merge(df_manager, on=\"EmployeeID\", how=\"outer\")\n",
    "    .merge(df_retirement, on=\"EmployeeID\", how=\"outer\")\n",
    ")\n",
    "\n",
    "\n",
    "### Renombrar Variable objetivo\n",
    "df = df.rename(columns={\"Attrition\": \"target\"})\n",
    "\n",
    "\n",
    "#### Nulos después de unir los dataframes\n",
    "\n",
    "# Se eliminan los registros nulos de df_gen[\"TotalWorkingYears\"], porque no se encuentran patrones (9)\n",
    "df = df.dropna(subset=[\"TotalWorkingYears\"])\n",
    "# Los nan de la columna \"Attrition\" se reemplazan por \"No\"\n",
    "df[\"target\"] = df[\"target\"].fillna(\"No\")\n",
    "# Los nan de retirementDate se reemplazan por \"No\"\n",
    "# df[\"retirementDate\"] = df[\"retirementDate\"].fillna(\"No\")\n",
    "# Los nan de retirementType se reemplazan por \"No\"\n",
    "df[\"retirementType\"] = df[\"retirementType\"].fillna(\"No\")\n",
    "# Los nan de resignationReason se reemplazan por \"No\"\n",
    "df[\"resignationReason\"] = df[\"resignationReason\"].fillna(\"No\")\n",
    "\n",
    "### Comprobación de unión exitosa\n",
    "df.shape"
   ]
  },
  {
   "cell_type": "code",
   "execution_count": 329,
   "metadata": {},
   "outputs": [],
   "source": [
    "# Transformar variable objetivo a binaria\n",
    "from sklearn.preprocessing import LabelEncoder\n",
    "\n",
    "enc = LabelEncoder()\n",
    "df[\"target\"] = enc.fit_transform(df[\"target\"])"
   ]
  },
  {
   "cell_type": "code",
   "execution_count": 331,
   "metadata": {},
   "outputs": [],
   "source": [
    "# Guardar dataframe en csv para usarlo en el siguiente notebook\n",
    "df.to_csv(\"data/df.csv\", index=True)"
   ]
  }
 ],
 "metadata": {
  "kernelspec": {
   "display_name": "Python 3",
   "language": "python",
   "name": "python3"
  },
  "language_info": {
   "codemirror_mode": {
    "name": "ipython",
    "version": 3
   },
   "file_extension": ".py",
   "mimetype": "text/x-python",
   "name": "python",
   "nbconvert_exporter": "python",
   "pygments_lexer": "ipython3",
   "version": "3.11.4"
  },
  "orig_nbformat": 4
 },
 "nbformat": 4,
 "nbformat_minor": 2
}
