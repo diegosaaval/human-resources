{
 "cells": [
  {
   "cell_type": "markdown",
   "metadata": {},
   "source": [
    "# CASO DE ESTUDIO RECURSOS HUMANOS\n",
    "\n",
    "DISEÑO DE LA SOLUCIÓN"
   ]
  },
  {
   "cell_type": "markdown",
   "metadata": {},
   "source": [
    "PROTECCIÓN: Modelo que predice si un empleado es propenso a renunciar y agrupa a los empleados por área y sus características más relevantes por mejorar para así facilitar la creación de estrategias personalizadas desde el área de RH con el fin de disminuir la renuncia de personal\n",
    "* Entrada: Base de datos del área de RH del mes anterior de los empleados actuales \n",
    "* Frecuencia: de entrada: Mensualmente\n",
    "* Reentrenamiento: Semestralmente\n",
    "* Salida: Reporte mensual que contiene las características de los empleados de forma individual y segmentada que tienen probabilidad de renunciar para que el área de RH pueda tomar estrategias para mitigar la renuncia y mejorar el ambiente laboral"
   ]
  }
 ],
 "metadata": {
  "language_info": {
   "name": "python"
  },
  "orig_nbformat": 4
 },
 "nbformat": 4,
 "nbformat_minor": 2
}
