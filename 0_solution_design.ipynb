{
 "cells": [
  {
   "cell_type": "markdown",
   "metadata": {},
   "source": [
    "# CASO DE ESTUDIO RECURSOS HUMANOS\n",
    "\n",
    "DISEÑO DE LA SOLUCIÓN\n",
    "* Características que va a tener el producto servicio o proceso terminado\n",
    "* Ej. Actualizar información insumo del modelo diariamente, hacer predicciones diarias, reentrenar el modelo mensualmente, predecir si un cliente va a pagar un crédito y dejarlo en una base de datos en el que el área encargada lo pueda consultar"
   ]
  }
 ],
 "metadata": {
  "language_info": {
   "name": "python"
  },
  "orig_nbformat": 4
 },
 "nbformat": 4,
 "nbformat_minor": 2
}
