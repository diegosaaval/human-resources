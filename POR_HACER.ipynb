{
 "cells": [
  {
   "cell_type": "markdown",
   "metadata": {},
   "source": [
    "AVANCE 1:  Diseño  de  la  solución,  selección  de  variables, \n",
    "comparación y selección de algoritmos.\n",
    "\n",
    "############### POR HACER ###############\n",
    "\n",
    "DISEÑO SOLUCIÓN\n",
    "* Pasar la solución propuesta al esquema gráfico\n",
    "\n",
    "EXPLORACIÓN\n",
    "* Análisis exploratorio básico, no profundizar (mayormente enfocado en lo que se quiere predecir, matriz de correlación y luego gráficos de la variable a predecir con las demás variables más correlacionadas y dejar explicación)\n",
    "* Por medio del análisis exploratorio, determinar qué variables son relevantes para el problema\n",
    "* Valores atípicos\n",
    "\n",
    "MODELADO\n",
    "* Utilizar varios modelos sin afinar hiperparámetros y compararlos\n",
    "\n",
    "\n",
    "OPCIONAL\n",
    "* Tratar los df_in_time y df_out_time (opcional, no es calificable)\n",
    "* Para calcular nuevas variables, filtros, hacer consultas y unir los df, se debe usar SQL (Opcional 1ra entrega, Obligatorio 2da entrega)\n",
    "\n",
    "AVANCE 2: Diseño de la solución, afinamiento de hiperparámetro \n",
    "y análisis del modelo. "
   ]
  }
 ],
 "metadata": {
  "language_info": {
   "name": "python"
  },
  "orig_nbformat": 4
 },
 "nbformat": 4,
 "nbformat_minor": 2
}
